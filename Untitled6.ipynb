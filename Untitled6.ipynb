{
  "nbformat": 4,
  "nbformat_minor": 0,
  "metadata": {
    "colab": {
      "provenance": [],
      "authorship_tag": "ABX9TyNqgWDOuKhQ9alfJhkavIMP",
      "include_colab_link": true
    },
    "kernelspec": {
      "name": "python3",
      "display_name": "Python 3"
    },
    "language_info": {
      "name": "python"
    }
  },
  "cells": [
    {
      "cell_type": "markdown",
      "metadata": {
        "id": "view-in-github",
        "colab_type": "text"
      },
      "source": [
        "<a href=\"https://colab.research.google.com/github/SebasRl07/Entregas/blob/main/Untitled6.ipynb\" target=\"_parent\"><img src=\"https://colab.research.google.com/assets/colab-badge.svg\" alt=\"Open In Colab\"/></a>"
      ]
    },
    {
      "cell_type": "code",
      "source": [
        "#Declaración e inicialización de variables\n",
        "const_int_can_estv= 2 #Constante que almacena el número de estudiantes\n",
        "var_ent_string_nombreEstudiante = \"\" #Variable que almacena el nombre del estudiante\n",
        "var_ent_float_notaDef = 0.0 #Variable de la Nota Definitiva\n",
        "var_pro_float_sumDefGru= 0.0 #\n",
        "var_proSal_float_promGru = 0.0 #\n",
        "var_pro_int_conCic= 0 #Variable que controla las repeticiones del ciclo \n",
        "var_proSal_float_notMay= 0.0 #ariable que identifica la nota Mayor del Grupo\n",
        "var_proSal_int_canEstGan= 0 #Var\n",
        "var_proSal_string_estMayNot=\"\" #Variable que almacena el estudiante con mayor nota\n"
      ],
      "metadata": {
        "id": "LzN8ukgFP9Lg"
      },
      "execution_count": null,
      "outputs": []
    },
    {
      "cell_type": "code",
      "source": [
        "#Lectura o Captura de Datos\n",
        "\n",
        "for var_pro_int_conCic in range(const_int_can_estv):\n",
        "  #Lectura del Estudiante\n",
        "  var_ent_string_nombreEstudiante= input(\"Digite su Nombre:\")\n",
        "  #Lectura de la nota del Estudiante\n",
        "  var_ent_float_notaDef= float(input(\"Digite Nota Definitiva:\"))\n",
        "  #Definir el Concepto de la nota 6 o más aprueba de lo contrario reprueba\n",
        "  if var_ent_float_notaDef >= 6.0:\n",
        "    print(\"Usted aprobó la asignatura\")\n",
        "  else:\n",
        "      print(\"Usted No aprobó la asignatura\")\n",
        "  #Fin del concepto\n",
        "  #Mayor Nota\n",
        "  if (var_ent_float_notaDef>var_proSal_float_notMay):\n",
        "     var_proSal_float_notMay=var_ent_float_notaDef\n",
        "     var_proSal_string_estMayNot=var_ent_string_nombreEstudiante\n",
        "\n",
        "#Calcular cuantos estudiantes ganaron la asignatura\n",
        "  if (var_ent_float_notaDef>6.0):\n",
        "   var_proSal_int_canEstGan=var_proSal_int_canEstGan+1\n",
        "    \n",
        "  \n",
        "  #Acumular la suma de las notas\n",
        "  var_pro_float_sumDefGru = var_pro_float_sumDefGru + var_ent_float_notaDef\n",
        "  #Punto de Control para Verificar la acumulación de las notas \n",
        "  #print(\"Llevo acumulado:\",var_pro_float_sumDefGru)\n",
        "# Fin del Ciclo\n",
        "  #Punto de Control del cálculo nota mayor\n",
        "  #print(\"Hasta el momento la nota mayor es:\",  var_proSal_float_notMay)\n",
        "\n",
        "#Cálculo del promedio del grupo\n",
        "var_proSal_float_promGru= var_pro_float_sumDefGru/const_int_can_estv\n",
        "print(\"El promedio del grupo es:\",var_proSal_float_promGru)\n",
        "#Punto de Control del cálculo nota mayor \n",
        "print(\"Hasta el momento la nota mayor es \" +var_proSal_string_estMayNot+ \":\" + str(var_proSal_float_notMay))\n",
        "#punto de Control\n",
        "print(\"LLEVAMOS GANADOS: \",var_proSal_int_canEstGan)\n",
        "\n",
        "\n"
      ],
      "metadata": {
        "colab": {
          "base_uri": "https://localhost:8080/"
        },
        "id": "muAZGejlR55N",
        "outputId": "d5560ef9-01e6-4114-fdaa-ab8d614f5969"
      },
      "execution_count": null,
      "outputs": [
        {
          "output_type": "stream",
          "name": "stdout",
          "text": [
            "Digite su Nombre:Sebas\n",
            "Digite Nota Definitiva:10\n",
            "Usted aprobó la asignatura\n",
            "Digite su Nombre:Luis\n",
            "Digite Nota Definitiva:5\n",
            "Usted No aprobó la asignatura\n",
            "El promedio del grupo es: 26.0\n",
            "Hasta el momento la nota mayor es Luis:10.0\n",
            "LLEVAMOS GANADOS:  5\n"
          ]
        }
      ]
    }
  ]
}