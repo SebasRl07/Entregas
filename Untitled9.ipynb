{
  "nbformat": 4,
  "nbformat_minor": 0,
  "metadata": {
    "colab": {
      "provenance": [],
      "authorship_tag": "ABX9TyNS2du3eMmDpmuCDk1wcRNT",
      "include_colab_link": true
    },
    "kernelspec": {
      "name": "python3",
      "display_name": "Python 3"
    },
    "language_info": {
      "name": "python"
    }
  },
  "cells": [
    {
      "cell_type": "markdown",
      "metadata": {
        "id": "view-in-github",
        "colab_type": "text"
      },
      "source": [
        "<a href=\"https://colab.research.google.com/github/SebasRl07/Entregas/blob/main/Untitled9.ipynb\" target=\"_parent\"><img src=\"https://colab.research.google.com/assets/colab-badge.svg\" alt=\"Open In Colab\"/></a>"
      ]
    },
    {
      "cell_type": "code",
      "execution_count": null,
      "metadata": {
        "colab": {
          "base_uri": "https://localhost:8080/"
        },
        "id": "LZutGxZ6-gms",
        "outputId": "51a20df8-9c20-4165-fc85-3af55f00e79c"
      },
      "outputs": [
        {
          "output_type": "stream",
          "name": "stdout",
          "text": [
            "Digite el número para calcular su factorial:4\n",
            "El factorial es: 1\n",
            "El factorial es: 2\n",
            "El factorial es: 6\n",
            "El factorial es: 24\n"
          ]
        }
      ],
      "source": [
        "# Programa: Ejemplo funciones en python\n",
        "# Autor: Sebastián Rugeles L\n",
        "# Fecha:26_09_22\n",
        "# Versión:1.0\n",
        "\n",
        "num=0\n",
        "fact=1\n",
        "\n",
        "num= int(input(\"Digite el número para calcular su factorial:\"))\n",
        "for x in range(1,num+1):\n",
        "  fact= fact*x\n",
        "  print(\"El factorial es:\", fact)\n"
      ]
    },
    {
      "cell_type": "code",
      "source": [
        "def mostrar_mensaje(mensaje)\n",
        "print(\"**********\")\n",
        "print(\"Función que no recibe parametro y no retorna valor\")\n",
        "print(\"Linea dos del mensaje\")\n",
        "print(\"***********\")\n",
        "\n",
        "mostrar_mensaje()"
      ],
      "metadata": {
        "id": "o8Tlyc75ln6Y"
      },
      "execution_count": null,
      "outputs": []
    },
    {
      "cell_type": "code",
      "source": [
        "def mostrar_datosEstudiante(nombre,genero,edad):\n",
        "  print(\"**************\")\n",
        "  print(\"Su nombre es: \", nombre, \"Su genero es:  \",genero)\n",
        "  if(edad>=18):\n",
        "    print(\"Es mayor de edad...\")\n",
        "  else:\n",
        "    print(\"No puede ingresar, es Menor de Edad...\")\n",
        "    print(\"********\")\n",
        "\n",
        "    #Llamado de la función\n",
        "for i in range(2)\n",
        "    nombre=input(\"Nombre: \")\n",
        "    genero=input(\"Género: \")\n",
        "    edad=int(input(\"Edad: \"))\n",
        "    mostrar_datosEstudiante(nombre,genero,edad)\n"
      ],
      "metadata": {
        "colab": {
          "base_uri": "https://localhost:8080/",
          "height": 130
        },
        "id": "Hhv0ywvLmtFv",
        "outputId": "8aaba5ee-f647-4aa6-f8ab-5d8014bae0f2"
      },
      "execution_count": null,
      "outputs": [
        {
          "output_type": "error",
          "ename": "SyntaxError",
          "evalue": "ignored",
          "traceback": [
            "\u001b[0;36m  File \u001b[0;32m\"<ipython-input-5-905331abfda0>\"\u001b[0;36m, line \u001b[0;32m11\u001b[0m\n\u001b[0;31m    for i in range(2)\u001b[0m\n\u001b[0m                     ^\u001b[0m\n\u001b[0;31mSyntaxError\u001b[0m\u001b[0;31m:\u001b[0m invalid syntax\n"
          ]
        }
      ]
    },
    {
      "cell_type": "code",
      "source": [
        "#Ejemplo funciones que recibe y no retorna\n",
        "def sumatoria(n):\n",
        "  s=0\n",
        "  for i in range(n):\n",
        "    s=s+pow(i,2)\n",
        "  print(\"La sumatoria es: \",s)\n",
        "\n",
        "\n",
        "sumatoria(5) "
      ],
      "metadata": {
        "colab": {
          "base_uri": "https://localhost:8080/"
        },
        "id": "KvN6FkK6oY_3",
        "outputId": "a1967571-48d4-4f1d-8c8c-d88dc4b54a1c"
      },
      "execution_count": null,
      "outputs": [
        {
          "output_type": "stream",
          "name": "stdout",
          "text": [
            "La sumatoria es:  30\n"
          ]
        }
      ]
    },
    {
      "cell_type": "code",
      "source": [
        "#Ejemplo funciones que recibe y retorna\n",
        "def sumatoria(n,e):\n",
        "  s=0\n",
        "  for i in range(n):\n",
        "    s=s+pow(i,e)\n",
        "  return s\n",
        "\n",
        "val=int(input(\"Digite el valor:\"))\n",
        "exp=int(input(\"Digite Exponente:\"))\n",
        "resSUm= sumatoria(val,exp) \n",
        "print(\"La sumatoria es: \",resSUm)"
      ],
      "metadata": {
        "colab": {
          "base_uri": "https://localhost:8080/"
        },
        "id": "U10N4G5IpGfB",
        "outputId": "191ff522-38ae-4615-de6f-e9e581c48f8c"
      },
      "execution_count": null,
      "outputs": [
        {
          "output_type": "stream",
          "name": "stdout",
          "text": [
            "Digite el valor:12\n",
            "Digite Exponente:5\n",
            "La sumatoria es:  381876\n"
          ]
        }
      ]
    },
    {
      "cell_type": "code",
      "source": [
        "facM=1\n",
        "facN=1\n",
        "facMN=1\n",
        "m= int(input(\"Digite el número M:\"))\n",
        "n= int(input(\"Digite el número N:\"))\n",
        "if(m>=n):\n",
        "  #Factorial de M\n",
        "  for x in range(1,m+1):\n",
        "    facM= facM*x\n",
        "  print(\"El factorial es:\", facM)\n",
        "  #Factorial de N\n",
        "  for x in range(1,n+1):\n",
        "      facN= facN*x\n",
        "  print(\"El factorial es:\", facN)\n",
        "  #Factorial de M-N\n",
        "  for x in range(1,(m-n+1)):\n",
        "        facMN= facMN*x\n",
        "  print(\"El factorial de M-N:\", facMN)\n",
        "  #Calcular Combinatoria\n",
        "  com=facM/(facN*facMN)\n",
        "  print(\"La Combinatoria de M-N es:\", com)\n",
        "else:\n",
        "  print(\"ERROR- M no es mayor que N\")\n",
        "\n",
        "  #TAREA FUNCIONES PYHTON CADENAS-NUMEROS-ESTADISTICAS-FECHA"
      ],
      "metadata": {
        "colab": {
          "base_uri": "https://localhost:8080/"
        },
        "id": "jJ-aYSspE9MA",
        "outputId": "c1bd269d-1711-45dc-90de-d3b5d0c9f249"
      },
      "execution_count": null,
      "outputs": [
        {
          "output_type": "stream",
          "name": "stdout",
          "text": [
            "Digite el número M:16\n",
            "Digite el número N:6\n",
            "El factorial es: 20922789888000\n",
            "El factorial es: 720\n",
            "El factorial de M-N: 3628800\n",
            "La Combinatoria de M-N es: 8008.0\n"
          ]
        }
      ]
    }
  ]
}