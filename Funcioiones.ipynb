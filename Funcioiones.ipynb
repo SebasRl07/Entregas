{
  "nbformat": 4,
  "nbformat_minor": 0,
  "metadata": {
    "colab": {
      "provenance": [],
      "authorship_tag": "ABX9TyMKPTRH8o8BTOL+7k9T/MHZ",
      "include_colab_link": true
    },
    "kernelspec": {
      "name": "python3",
      "display_name": "Python 3"
    },
    "language_info": {
      "name": "python"
    }
  },
  "cells": [
    {
      "cell_type": "markdown",
      "metadata": {
        "id": "view-in-github",
        "colab_type": "text"
      },
      "source": [
        "<a href=\"https://colab.research.google.com/github/SebasRl07/Entregas/blob/main/Funcioiones.ipynb\" target=\"_parent\"><img src=\"https://colab.research.google.com/assets/colab-badge.svg\" alt=\"Open In Colab\"/></a>"
      ]
    },
    {
      "cell_type": "code",
      "execution_count": null,
      "metadata": {
        "id": "cp83DuFBtGRF"
      },
      "outputs": [],
      "source": [
        "#1\n",
        "def ult_dig(Num):\n",
        "  \n",
        "  Ultimo_digito= Num %10\n",
        "  return(Ultimo_digito)\n",
        "\n",
        "Num=int(input(\"Ingrese un numero:  \"))\n",
        "print(\"El Ultimo digito del numero es: \", ult_dig(Num))"
      ]
    },
    {
      "cell_type": "code",
      "source": [
        "#2\n",
        "def ult_dig(Num):\n",
        "  \n",
        "  Ultimo_digito= Num %100\n",
        "  return(Ultimo_digito)\n",
        "\n",
        "Num=int(input(\"Ingrese un numero:  \"))\n",
        "print(\"Los dos ultimos digitos son: \", ult_dig(Num))"
      ],
      "metadata": {
        "id": "GbnZ6lEXtKbd"
      },
      "execution_count": null,
      "outputs": []
    },
    {
      "cell_type": "code",
      "source": [
        "#3\n",
        "def cant_dig(Num):\n",
        "  Cantidad_digito=0\n",
        "\n",
        "  #Condicional para que solo acepte valores enteros positivos \n",
        "\n",
        "  while Num>=1:\n",
        "    Num=Num//10\n",
        "    Cantidad_digito +=1\n",
        "    #Fin del ciclo while \n",
        "  return(Cantidad_digito)\n",
        "\n",
        "Num=int(input('Ingrese un numero:  '))\n",
        "print('La cantidad de digitos que tiene el numero que ingreso es:  ',cant_dig(Num))"
      ],
      "metadata": {
        "id": "xFJVXOXMtNLU"
      },
      "execution_count": null,
      "outputs": []
    },
    {
      "cell_type": "code",
      "source": [
        "#4\n",
        "def cant_digpares(Num):\n",
        "  digits=str(Num)\n",
        "  count=0\n",
        "\n",
        "  for i in range(len(digits)):\n",
        "    if (int(digits[i]) % 2 == 0):\n",
        "      count += 1"
      ],
      "metadata": {
        "id": "mwYWifn7tQD-"
      },
      "execution_count": null,
      "outputs": []
    },
    {
      "cell_type": "code",
      "source": [
        "#5\n",
        "def cant_digprimos(Num):\n",
        "  digits=str(Num)\n",
        "  Cuenta_Dig=0\n",
        "\n",
        "  for i in range(len(digits)):\n",
        "    if (int(digits[i]) % 10 == 2) or (int(digits[i]) % 10 == 5) or (int(digits[i]) % 10 == 7) or (int(digits[i]) % 10 == 3):\n",
        "      Cuenta_Dig=Cuenta_Dig+1\n",
        "\n",
        "  return Cuenta_Dig\n",
        "\n",
        "\n",
        "Num=int(input(\"Ingrese un numero: \"))\n",
        "print(\"La cantidad de digitos primos es\",cant_digprimos(Num))"
      ],
      "metadata": {
        "id": "NiUB0rPitSdX"
      },
      "execution_count": null,
      "outputs": []
    },
    {
      "cell_type": "code",
      "source": [
        "#6\n",
        "def Entero_ASCii(Num):\n",
        "  digits=str(Num)\n",
        "  Caracter_ASCii=[]\n",
        "\n",
        "  for i in digits:\n",
        "    Caracter_ASCii.append(ord(i))\n",
        "  return Caracter_ASCii\n",
        "\n",
        "Num=int(input(\"Ingrese un numero: \"))\n",
        "print(\"El entero en codigo ASCii es: \",Entero_ASCii(Num))"
      ],
      "metadata": {
        "id": "2cZRvzqNtTZv"
      },
      "execution_count": null,
      "outputs": []
    },
    {
      "cell_type": "code",
      "source": [
        "\n",
        "#8\n",
        "def fibonacci(n):\n",
        "    a = 0\n",
        "    b = 1 \n",
        "    if n >=30:\n",
        "        print(\"Incorrect input\")\n",
        "    elif n == 0:\n",
        "        return a\n",
        "    elif n == 1:\n",
        "        return b\n",
        "    else:\n",
        "        for i in range(3,n+1):\n",
        "            f.append(f[i-1] + f[i-2])\n",
        "            f = a + b\n",
        "            a = b\n",
        "            b = f\n",
        "        return b\n",
        "n=input(\"Ingrese el número: \")\n",
        "print(\"El número fibonacci es: \",fibonacci(n))"
      ],
      "metadata": {
        "id": "jH6ePuJptV75"
      },
      "execution_count": null,
      "outputs": []
    },
    {
      "cell_type": "code",
      "source": [
        "#9\n",
        "def factorial(n): \n",
        "    return 1 if (n==1 or n==0) else n * factorial(n - 1);  \n",
        "  \n",
        "num =int(input(\"Ingrese el número: \")) \n",
        "print(\"Factorial of\",num,\"is\", factorial(num))"
      ],
      "metadata": {
        "id": "SYeuAOMztYnA"
      },
      "execution_count": null,
      "outputs": []
    },
    {
      "cell_type": "code",
      "source": [
        "#10\n",
        "def primer_dig(num):\n",
        "  if num<=99:\n",
        "    num//= 10\n",
        "  elif num<=999:\n",
        "    num//=100\n",
        "  elif num<=9999:\n",
        "    num//=1000\n",
        "  elif num<=99999:\n",
        "    num//=10000\n",
        "  elif num<=999999:\n",
        "    num//=100000\n",
        "  elif num<=9999999:\n",
        "    num//=1000000\n",
        "\n",
        "  return(num)\n",
        "\n",
        " \n",
        "num=int(input(\"Ingrese el digito: \"))\n",
        "print(\"El primer digito es: \",primer_dig(num))"
      ],
      "metadata": {
        "id": "XxFmqrafteyH"
      },
      "execution_count": null,
      "outputs": []
    },
    {
      "cell_type": "code",
      "source": [
        "#11\n",
        "def multiplo(a,b):\n",
        "  return True if a % b == 0 else False \n",
        "a=int(input(\"Ingrese el valor del numero..:\"))\n",
        "b=int(input(\"Ingrese el valor del digito..:\"))\n",
        "print(multiplo(a,b))"
      ],
      "metadata": {
        "id": "OxaxYpHctgEI"
      },
      "execution_count": null,
      "outputs": []
    },
    {
      "cell_type": "code",
      "source": [
        "#12\n",
        "def DigEnNum(a,b):\n",
        "  while a>=0:\n",
        "        return True if a % 10 == b  else False        \n",
        "a=int(input(\"Ingrese el valor del numero..:\"))\n",
        "b=int(input(\"Ingrese el valor del digito..:\"))\n",
        "entero=0\n",
        "print(DigEnNum(a,b))"
      ],
      "metadata": {
        "id": "P1pwL7wmtkWX"
      },
      "execution_count": null,
      "outputs": []
    },
    {
      "cell_type": "code",
      "source": [
        "#13\n",
        "def cont(num,dig):\n",
        "  contador=0\n",
        "  if num>=0:\n",
        "   if num %10 == dig:\n",
        "      contador=contador+1\n",
        "  num//=10\n",
        "  return contador\n",
        "num=int(input(\"Ingrese el valor del numero..:\"))\n",
        "dig=int(input(\"Ingrese el valor del digito..:\"))\n",
        "print(\"cantidad de veces que esta el digito..:\",cont(num,dig))"
      ],
      "metadata": {
        "id": "BKXY5tUbtn2t"
      },
      "execution_count": null,
      "outputs": []
    },
    {
      "cell_type": "code",
      "source": [
        "#14\n",
        "def num(num1,num2):\n",
        "  if num1>num2:\n",
        "    return num1\n",
        "  else:\n",
        "    return num2\n",
        "num1=int(input(\"Ingrese el valor del numero 1..:\"))\n",
        "num2=int(input(\"Ingrese el valor del numero 2..:\"))\n",
        "print(num(num1,num2)"
      ],
      "metadata": {
        "id": "3Sniz8votpBB"
      },
      "execution_count": null,
      "outputs": []
    },
    {
      "cell_type": "code",
      "source": [
        "#15\n",
        "def multiplo(num1,num2):\n",
        "  if num1 % num2 == 0:\n",
        "    return True\n",
        "  else:\n",
        "      return False\n",
        "num1=int(input(\"Ingrese el valor del numero..:\"))\n",
        "num2=int(input(\"Ingrese el valor del numero..:\"))\n",
        "entero=0\n",
        "print(multiplo(num1,num2))"
      ],
      "metadata": {
        "id": "OLJ622a6tr2I"
      },
      "execution_count": null,
      "outputs": []
    },
    {
      "cell_type": "code",
      "source": [
        "#21\n",
        "def primDif_ultDig(num):\n",
        "  prim_Dig=0\n",
        "  ult_dig=0\n",
        "  ult_dig=num%10\n",
        "  if num>10:\n",
        "    num//=10\n",
        "  prim_Dig=num\n",
        "  if ult_dig==prim_Dig:\n",
        "    return(1)\n",
        "  else:\n",
        "    return(0)\n",
        "num=int(input(\"Ingrese el digito: \"))\n",
        "print(\"El valor es: \",primDif_ultDig(num))"
      ],
      "metadata": {
        "id": "2pQn6URDtuU6"
      },
      "execution_count": null,
      "outputs": []
    },
    {
      "cell_type": "code",
      "source": [
        "#22\n",
        "def mult_de_5(num):\n",
        "  if (num%5==0):\n",
        "    return(1)\n",
        "  else:\n",
        "    return(0)\n",
        "num=int(input(\"Ingrese el digito:\"))\n",
        "print(\"El valor es:\",mult_de_5(num))"
      ],
      "metadata": {
        "id": "cK7vZNYztxDl"
      },
      "execution_count": null,
      "outputs": []
    },
    {
      "cell_type": "code",
      "source": [
        "#23\n",
        "def dif_num_pri(num1,num2):\n",
        "  aux=0\n",
        "  dif=0\n",
        "  dif=num1-num2\n",
        "  contador=1\n",
        "  for aux in range(1,dif,1):\n",
        "    if dif % aux == 0:\n",
        "      contador=contador+1\n",
        "  if contador==2:\n",
        "    return(1)\n",
        "  else:\n",
        "    return(0)\n",
        "num1=int(input(\"Ingrese el primer digito: \"))\n",
        "num2=int(input(\"Ingrese el segundo digito: \"))\n",
        "print(\"El valor es: \",dif_num_pri(num1,num2))"
      ],
      "metadata": {
        "id": "r1JWVa0Etz2v"
      },
      "execution_count": null,
      "outputs": []
    },
    {
      "cell_type": "code",
      "source": [
        "#24\n",
        "def num_inversos(num1,num2):\n",
        "  dig11=num1//10\n",
        "  dig12=num1%10\n",
        "\n",
        "  dig21=num2//10\n",
        "  dig22=num2%10\n",
        "  if dig11==dig22 and dig12==dig21:\n",
        "    return(1)\n",
        "  else:\n",
        "    return(0)\n",
        "num1=int(input(\"El primer numero es: \"))\n",
        "num2=int(input(\"El segundo numero es: \"))\n",
        "print(\"El valor es: \", num_inversos(num1,num2))"
      ],
      "metadata": {
        "id": "JrurntXgt2S8"
      },
      "execution_count": null,
      "outputs": []
    },
    {
      "cell_type": "code",
      "source": [
        "#25\n",
        "def pos_dig(num,dig):\n",
        "  contador=0\n",
        "  nDig=0\n",
        "  if (num > 0 and contador<=dig-1):\n",
        "    num//=10\n",
        "    contador=contador+1\n",
        "  nDig=num % 10\n",
        "  return(nDig)\n",
        "num=int(input(\"Ingrese el numero: \"))\n",
        "dig=int(input(\"Ingrese el digito: \"))\n",
        "print(\"El digito es: \",pos_dig(num,dig))"
      ],
      "metadata": {
        "id": "xr6tsbv3t4vt"
      },
      "execution_count": null,
      "outputs": []
    }
  ]
}