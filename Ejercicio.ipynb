{
  "nbformat": 4,
  "nbformat_minor": 0,
  "metadata": {
    "colab": {
      "provenance": [],
      "authorship_tag": "ABX9TyOYJrfIoXucoMMZN9BoEBHp",
      "include_colab_link": true
    },
    "kernelspec": {
      "name": "python3",
      "display_name": "Python 3"
    },
    "language_info": {
      "name": "python"
    }
  },
  "cells": [
    {
      "cell_type": "markdown",
      "metadata": {
        "id": "view-in-github",
        "colab_type": "text"
      },
      "source": [
        "<a href=\"https://colab.research.google.com/github/SebasRl07/Entregas/blob/main/Ejercicio.ipynb\" target=\"_parent\"><img src=\"https://colab.research.google.com/assets/colab-badge.svg\" alt=\"Open In Colab\"/></a>"
      ]
    },
    {
      "cell_type": "code",
      "execution_count": null,
      "metadata": {
        "id": "EQYxkYnQyORG"
      },
      "outputs": [],
      "source": []
    },
    {
      "cell_type": "markdown",
      "source": [
        "SALARIO"
      ],
      "metadata": {
        "id": "pgqOP_EKyO7N"
      }
    },
    {
      "cell_type": "code",
      "source": [
        "#Definir variables\n",
        "CantEmp= int (input(\"Ingrese cantidad de empleados: \"))\n",
        "Acuimp= 0\n",
        "Acusalario=0\n",
        "for i in range (CantEmp):\n",
        "    #Definir variables\n",
        "  Nombre= input(\"Ingrese el nombre del empleado:\")\n",
        "  Tarifa=float (input(\"Ingrese el salario basico por hora:\"))\n",
        "  Horas= float (input(\"Ingrese las horas trabajadas durante la semana:\"))\n",
        "\n",
        "  #Verificar si horas trabajadas es <= 35 y poner condicionales\n",
        "  if Horas <=35 :\n",
        "    Salario=Horas*Tarifa\n",
        "    print(\"El salario semanas es\", Salario)\n",
        "  else:\n",
        "    Salario= 35*Tarifa+(Horas - 35) *Tarifa*1.5\n",
        "    print(\"El salario semanal con recargo es:\", Salario)\n",
        "\n",
        "    #Calculo impuesti\n",
        "  if Salario<=2000:\n",
        "    Impuestos=0\n",
        "    print(\"El total del impuesto es:\",Impuestos)\n",
        "  elif Salario<=2200:\n",
        "    Impuestos= (Salario-2000)*0.20\n",
        "    print(\"El total de impuesto es:\", Impuestos)\n",
        "  elif Salario > 2220:\n",
        "      Impuestos=(Salario-2220)*0.30 + (220*0.20)\n",
        "      print(\"El total de impuesto es:\", Impuestos)\n",
        "      Acuimp= Acuimp + Impuestos\n",
        "      #Calculo del Salario Neto\n",
        "\n",
        "  Salario_neto= Salario-Impuestos \n",
        "  print(\"El salario neto semanal es:\",Salario_neto)\n",
        "  Acusalario=Acusalario+Salario_neto   \n",
        "  #Fin del Ciclo\n",
        "  print(\"Los impuestos a pagar son:\", Acuimp)\n",
        "  print(\"El total de los salarios es:\", Acusalario)"
      ],
      "metadata": {
        "colab": {
          "base_uri": "https://localhost:8080/"
        },
        "id": "O-6jVTXoyTXd",
        "outputId": "693e72b6-da08-4cf2-c1dc-d9f70f6c7ac4"
      },
      "execution_count": null,
      "outputs": [
        {
          "output_type": "stream",
          "name": "stdout",
          "text": [
            "Ingrese cantidad de empleados:4\n",
            "Ingrese el nombre del empleado:Sebas\n",
            "Ingrese el salario basico por hora:12\n",
            "Ingrese las horas trabajadas durante la semana:35\n",
            "El salario semanas es 420.0\n",
            "El total del impuesto es: 0\n",
            "El salario neto semanal es: 420.0\n",
            "Los impuestos a pagar son: 0\n",
            "El total de los salarios es: 420.0\n",
            "Ingrese el nombre del empleado:Vale\n",
            "Ingrese el salario basico por hora:70\n",
            "Ingrese las horas trabajadas durante la semana:40\n",
            "El salario semanal con recargo es: 2975.0\n",
            "El total de impuesto es: 270.5\n",
            "El salario neto semanal es: 2704.5\n",
            "Los impuestos a pagar son: 270.5\n",
            "El total de los salarios es: 3124.5\n",
            "Ingrese el nombre del empleado:Troy\n",
            "Ingrese el salario basico por hora:20\n",
            "Ingrese las horas trabajadas durante la semana:40\n",
            "El salario semanal con recargo es: 850.0\n",
            "El total del impuesto es: 0\n",
            "El salario neto semanal es: 850.0\n",
            "Los impuestos a pagar son: 270.5\n",
            "El total de los salarios es: 3974.5\n",
            "Ingrese el nombre del empleado:Dani\n",
            "Ingrese el salario basico por hora:30\n",
            "Ingrese las horas trabajadas durante la semana:35\n",
            "El salario semanas es 1050.0\n",
            "El total del impuesto es: 0\n",
            "El salario neto semanal es: 1050.0\n",
            "Los impuestos a pagar son: 270.5\n",
            "El total de los salarios es: 5024.5\n"
          ]
        }
      ]
    },
    {
      "cell_type": "code",
      "source": [],
      "metadata": {
        "id": "Of5UQ_p6A2zj"
      },
      "execution_count": null,
      "outputs": []
    }
  ]
}